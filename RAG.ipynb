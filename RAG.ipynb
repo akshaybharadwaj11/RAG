{
 "cells": [
  {
   "cell_type": "markdown",
   "id": "35c6121b",
   "metadata": {},
   "source": [
    "# Retrieval Augmented Generation \n",
    "\n",
    "Retrieval Augmented Generation(RAG) is a technique used to retrieve relevant contextual information from a data source and passing that information to a large language model alongside the user’s prompt. This information is used to improve the model’s output (generated text or images) by augmenting the model’s base knowledge. \n",
    "\n",
    "RAG is valuable for use-cases where the model needs knowledge which is not included in the information the model has learned from. For example, consider using GPT as chatbot for an e-commerce wesite, where users can interact with the model to get information about products. The GPT model has no knowledge about the company's products and services, and when a user asks questions about information on products the model would be incapable of answering or it would provide incorrect information (called hallucination), since the model hasn't been trained on the product information. Hence, to prevent such scenarios and augment the model's knowledge which would enable the model to generate relevant responses we implement RAG.\n",
    "\n",
    "### RAG Pipeline\n",
    "\n",
    "![RAG Pipeline](Rag_pipeline.png)\n",
    "\n",
    "* A corpus of documents that are not used to train the model are stored as vector representation(Embeddings) in vector store for faster retrieval. These documents are used to augment the model's context while answering user queries that the model has no knowledge about\n",
    "\n",
    "* The user query is converted to vector representation and a similarity search is performed on the vector store to retrieve the documents that are related to the user query\n",
    "\n",
    "* These documents are provided as context to the Large Language Model for response generation\n"
   ]
  },
  {
   "cell_type": "markdown",
   "id": "fb30214a",
   "metadata": {},
   "source": [
    "## Abstract\n",
    "\n",
    "This notebook is used to demonstrate the effectiveness of Retrieval Augmented Generation. In this notebook, we create a vector store with the latest 20 news articles. We use a sentence transformer to convert the news text to embeddings. We use the Facebook AI similarity search framework for indexing the text embeddings and perform a similarity search based on the user query."
   ]
  },
  {
   "cell_type": "code",
   "execution_count": 1,
   "id": "99634a65",
   "metadata": {},
   "outputs": [
    {
     "name": "stderr",
     "output_type": "stream",
     "text": [
      "/Users/akshaybharadwaj/anaconda3/lib/python3.11/site-packages/sentence_transformers/cross_encoder/CrossEncoder.py:13: TqdmExperimentalWarning: Using `tqdm.autonotebook.tqdm` in notebook mode. Use `tqdm.tqdm` instead to force console mode (e.g. in jupyter console)\n",
      "  from tqdm.autonotebook import tqdm, trange\n"
     ]
    }
   ],
   "source": [
    "from openai import OpenAI\n",
    "from sentence_transformers import SentenceTransformer\n",
    "import numpy as np\n",
    "import faiss"
   ]
  },
  {
   "cell_type": "code",
   "execution_count": 2,
   "id": "a8471784",
   "metadata": {},
   "outputs": [],
   "source": [
    "with open('api_key.txt') as ap:\n",
    "    api_key = ap.read()\n",
    "#     print(api_key)\n",
    "\n",
    "client = OpenAI(api_key=api_key)"
   ]
  },
  {
   "cell_type": "code",
   "execution_count": 3,
   "id": "e12d105d",
   "metadata": {},
   "outputs": [],
   "source": [
    "# Latest 20 news articles\n",
    "\n",
    "corpus = [ \n",
    "    \"An apparent assassination attempt was made on former President Donald Trump at his golf course in West Palm Beach, Florida on September 16, 2024.\",\n",
    "\"The suspect, identified as Ryan Wesley Routh, 58, allegedly aimed an AR-style rifle with a scope at Trump from bushes about 400 yards away.\",\n",
    "\"Secret Service agents noticed Routh and fired shots, causing him to flee before being apprehended later.\",\n",
    "\"This incident follows a previous assassination attempt on Trump during a campaign rally in Butler, Pennsylvania two months earlier.\",\n",
    "\"Trump thanked the Secret Service and supporters, calling it an interesting day.\",\n",
    "\"The FBI is investigating the incident as an apparent assassination attempt.\",\n",
    "\"Vice President Kamala Harris, Trump's opponent in the current election, stated that Violence has no place in America.\",\n",
    "\"Recent polls show Harris with a narrow lead over Trump in the presidential race.\",\n",
    "\"Key issues in the campaign include immigration, the economy, abortion rights, and concerns about democracy.\",\n",
    "\"Trump has promised measures like mass deportation of undocumented immigrants and ending birthright citizenship.\",\n",
    "\"Harris is distancing herself from President Biden, promising a new generation of leadership.\",\n",
    "\"The economy remains the most important issue for American voters, despite positive economic indicators.\",\n",
    "\"Apple released watchOS 11 on September 16, 2024, introducing new health and fitness features.\",\n",
    "\"Hyzon announced the start of production for its Class 8 200kW Fuel Cell Electric Truck on September 16, 2024.\",\n",
    "\"Science Translational Medicine published new research on various medical topics in its May 1, 2024 issue.\",\n",
    "]\n"
   ]
  },
  {
   "cell_type": "markdown",
   "id": "090d4932",
   "metadata": {},
   "source": [
    "### Generate Embeddings"
   ]
  },
  {
   "cell_type": "code",
   "execution_count": 4,
   "id": "e6be29ca",
   "metadata": {},
   "outputs": [],
   "source": [
    "# Create embeddings and store them in vector store\n",
    "\n",
    "# Sentence Transformer model to generate embeddings\n",
    "model = SentenceTransformer('all-MiniLM-L6-v2')\n",
    "\n",
    "# Encode the corpus into vector embeddings\n",
    "corpus_embeddings = model.encode(corpus)\n",
    "corpus_embeddings = np.array(corpus_embeddings)\n",
    "\n",
    "# FAISS index for similarity search\n",
    "dimension = corpus_embeddings.shape[1]\n",
    "index = faiss.IndexFlatL2(dimension)  #(Euclidean distance)\n",
    "\n",
    "# Add corpus embeddings to the FAISS index\n",
    "index.add(corpus_embeddings)\n"
   ]
  },
  {
   "cell_type": "code",
   "execution_count": 5,
   "id": "f660f993",
   "metadata": {},
   "outputs": [],
   "source": [
    "# Retrieve similar documents based on L2 distance\n",
    "\n",
    "def retrieve_documents(query, top_k=2):\n",
    "    query_embedding = model.encode([query])\n",
    "    distances, indices = index.search(np.array(query_embedding), top_k)\n",
    "    retrieved_docs = [corpus[idx] for idx in indices[0]]\n",
    "    return retrieved_docs\n"
   ]
  },
  {
   "cell_type": "code",
   "execution_count": 6,
   "id": "56875df6",
   "metadata": {},
   "outputs": [],
   "source": [
    "# Generate response using RAG\n",
    "\n",
    "def generate_response(query, retrieved_docs):\n",
    "    # prompt with retrived documents from similarity search\n",
    "    prompt = f\"Answer the following question using the context provided.\\n\\nContext:\\n{retrieved_docs}\\n\\nQuestion: {query}\\nAnswer:\"\n",
    "    \n",
    "    response = client.chat.completions.create(\n",
    "        model=\"gpt-4o-mini\",\n",
    "        messages=[\n",
    "            {\n",
    "                'role': 'user',\n",
    "                'content':prompt\n",
    "            }],\n",
    "        max_tokens=150,\n",
    "        temperature=0.7,\n",
    "        top_p=1,\n",
    "        frequency_penalty=0,\n",
    "        presence_penalty=0\n",
    "    )\n",
    "    \n",
    "    return response.choices\n"
   ]
  },
  {
   "cell_type": "markdown",
   "id": "ba171b09",
   "metadata": {},
   "source": [
    "### Response with RAG"
   ]
  },
  {
   "cell_type": "code",
   "execution_count": 7,
   "id": "8805cff2",
   "metadata": {},
   "outputs": [],
   "source": [
    "query = \"Tell me about the presidential race\"\n",
    "retrieved_docs = retrieve_documents(query)\n",
    "\n",
    "response = generate_response(query, retrieved_docs)"
   ]
  },
  {
   "cell_type": "code",
   "execution_count": 8,
   "id": "1f6f45d1",
   "metadata": {},
   "outputs": [
    {
     "name": "stdout",
     "output_type": "stream",
     "text": [
      "Relevant Documents :\n",
      " ['Key issues in the campaign include immigration, the economy, abortion rights, and concerns about democracy.', 'Recent polls show Harris with a narrow lead over Trump in the presidential race.']\n"
     ]
    }
   ],
   "source": [
    "print(f\"Relevant Documents :\\n {retrieved_docs}\")"
   ]
  },
  {
   "cell_type": "markdown",
   "id": "95fdbbd3",
   "metadata": {},
   "source": [
    "### Response without RAG"
   ]
  },
  {
   "cell_type": "code",
   "execution_count": 9,
   "id": "4e029e34",
   "metadata": {},
   "outputs": [],
   "source": [
    "query = \"Tell me about the presidential race\"\n",
    "\n",
    "completion = client.chat.completions.create(\n",
    "    model=\"gpt-4o-mini\",\n",
    "    messages=[\n",
    "        {\"role\": \"user\", \"content\": query}\n",
    "    ],\n",
    "    max_tokens=150,\n",
    "    temperature=0.7,\n",
    "    top_p=1,\n",
    "    frequency_penalty=0,\n",
    "    presence_penalty=0\n",
    ")\n"
   ]
  },
  {
   "cell_type": "markdown",
   "id": "e4a909a4",
   "metadata": {},
   "source": [
    "#### Query 1"
   ]
  },
  {
   "cell_type": "code",
   "execution_count": 10,
   "id": "c37387cb",
   "metadata": {},
   "outputs": [
    {
     "name": "stdout",
     "output_type": "stream",
     "text": [
      "Response with RAG: As of October 2023, the presidential race in the United States is gearing up for the 2024 election. Key aspects of the race include:\n",
      "\n",
      "1. **Major Candidates**: Both the Democratic and Republican parties are preparing for primaries. Incumbent President Joe Biden is expected to seek re-election for the Democrats, while several prominent Republicans, including former President Donald Trump, Florida Governor Ron DeSantis, and former U.N. Ambassador Nikki Haley, are vying for the Republican nomination.\n",
      "\n",
      "2. **Key Issues**: The campaign is likely to focus on several major issues, including the economy, healthcare, immigration, climate change, and social justice. Each candidate's stance on these topics will be critical in shaping their campaigns and appealing\n"
     ]
    }
   ],
   "source": [
    "print(f\"Response without RAG: {completion.choices[0].message.content}\")"
   ]
  },
  {
   "cell_type": "code",
   "execution_count": 11,
   "id": "8e666b60",
   "metadata": {},
   "outputs": [
    {
     "name": "stdout",
     "output_type": "stream",
     "text": [
      "Response with RAG: The presidential race is currently focused on key issues such as immigration, the economy, abortion rights, and concerns about democracy. Recent polls indicate that Kamala Harris has a narrow lead over Donald Trump in the race.\n"
     ]
    }
   ],
   "source": [
    "print(f\"Response with RAG: {response[0].message.content}\")"
   ]
  },
  {
   "cell_type": "markdown",
   "id": "46191c80",
   "metadata": {},
   "source": [
    "#### Query 2"
   ]
  },
  {
   "cell_type": "code",
   "execution_count": 18,
   "id": "bd5f9b3e",
   "metadata": {},
   "outputs": [],
   "source": [
    "query = \"Need info about Apple 2024 event\"\n",
    "retrieved_docs = retrieve_documents(query)\n",
    "\n",
    "response = generate_response(query, retrieved_docs)"
   ]
  },
  {
   "cell_type": "code",
   "execution_count": 19,
   "id": "ccd83b4c",
   "metadata": {},
   "outputs": [
    {
     "name": "stdout",
     "output_type": "stream",
     "text": [
      "Relevant Documents :\n",
      " ['Apple released watchOS 11 on September 16, 2024, introducing new health and fitness features.', 'An apparent assassination attempt was made on former President Donald Trump at his golf course in West Palm Beach, Florida on September 16, 2024.']\n"
     ]
    }
   ],
   "source": [
    "print(f\"Relevant Documents :\\n {retrieved_docs}\")"
   ]
  },
  {
   "cell_type": "code",
   "execution_count": 20,
   "id": "aa4e1208",
   "metadata": {},
   "outputs": [
    {
     "name": "stdout",
     "output_type": "stream",
     "text": [
      "Response with RAG: Apple released watchOS 11 on September 16, 2024, which introduced new health and fitness features.\n"
     ]
    }
   ],
   "source": [
    "print(f\"Response with RAG: {response[0].message.content}\")"
   ]
  },
  {
   "cell_type": "code",
   "execution_count": 21,
   "id": "0ee6e5c7",
   "metadata": {},
   "outputs": [],
   "source": [
    "completion = client.chat.completions.create(\n",
    "    model=\"gpt-4o-mini\",\n",
    "    messages=[\n",
    "        {\"role\": \"user\", \"content\": query}\n",
    "    ],\n",
    "    max_tokens=150,\n",
    "    temperature=0.7,\n",
    "    top_p=1,\n",
    "    frequency_penalty=0,\n",
    "    presence_penalty=0\n",
    ")\n"
   ]
  },
  {
   "cell_type": "code",
   "execution_count": 22,
   "id": "545ee47c",
   "metadata": {},
   "outputs": [
    {
     "name": "stdout",
     "output_type": "stream",
     "text": [
      "Response without RAG: \n",
      " As of my last knowledge update in October 2023, I don't have specific details about any Apple event scheduled for 2024. Apple typically holds several key events throughout the year, including their Worldwide Developers Conference (WWDC) in June and product launch events in September. \n",
      "\n",
      "To get the most accurate and updated information regarding any Apple events in 2024, including product announcements and keynotes, I recommend checking Apple's official website or following reputable tech news sources. These platforms will provide the latest announcements and insights regarding upcoming events.\n"
     ]
    }
   ],
   "source": [
    "print(f\"Response without RAG: \\n {completion.choices[0].message.content}\")"
   ]
  }
 ],
 "metadata": {
  "kernelspec": {
   "display_name": "Python 3 (ipykernel)",
   "language": "python",
   "name": "python3"
  },
  "language_info": {
   "codemirror_mode": {
    "name": "ipython",
    "version": 3
   },
   "file_extension": ".py",
   "mimetype": "text/x-python",
   "name": "python",
   "nbconvert_exporter": "python",
   "pygments_lexer": "ipython3",
   "version": "3.11.0"
  }
 },
 "nbformat": 4,
 "nbformat_minor": 5
}
